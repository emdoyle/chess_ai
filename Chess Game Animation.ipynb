{
 "cells": [
  {
   "cell_type": "code",
   "execution_count": 5,
   "metadata": {},
   "outputs": [
    {
     "name": "stdout",
     "output_type": "stream",
     "text": [
      "New Game Started\n"
     ]
    },
    {
     "name": "stderr",
     "output_type": "stream",
     "text": [
      " 99%|█████████▉| 148/149 [00:03<00:00, 39.28it/s]"
     ]
    },
    {
     "name": "stdout",
     "output_type": "stream",
     "text": [
      "GIF written to 'chess_game.gif'\n"
     ]
    },
    {
     "name": "stderr",
     "output_type": "stream",
     "text": [
      "\n"
     ]
    }
   ],
   "source": [
    "import chess\n",
    "import math\n",
    "import cairosvg\n",
    "import time\n",
    "import copy\n",
    "import moviepy.editor as mpy\n",
    "from scipy.misc import imread\n",
    "from IPython import display as IPdisplay\n",
    "from IPython.display import HTML\n",
    "from chess import uci, pgn, svg\n",
    "\n",
    "ROOT_DIR = \"/Users/evanmdoyle/Programming/ChessAI/\"\n",
    "\n",
    "# Easily open a UCI connection to local stockfish\n",
    "stockfish = uci.popen_engine(ROOT_DIR+\"stockfish\")\n",
    "stockfish.uci()\n",
    "\n",
    "stockfish.ucinewgame(lambda x: print(\"New Game Started\"))\n",
    "\n",
    "game = chess.pgn.Game()\n",
    "game.headers[\"White\"] = stockfish.name\n",
    "game.headers[\"Black\"] = stockfish.name\n",
    "board = chess.Board()\n",
    "stockfish.position(board)\n",
    "BOARDS = [board]\n",
    "\n",
    "def write_tmp_png(svg, t):\n",
    "    cairosvg.svg2png(bytestring=svg, write_to=\"/tmp/chesspng\"+str(t)+\".png\")\n",
    "\n",
    "def make_frame(t):\n",
    "    return imread(\"/tmp/chesspng\"+str(int(t))+\".png\")\n",
    "\n",
    "move_count = 1\n",
    "write_tmp_png(chess.svg.board(board=board), move_count-1)\n",
    "node = game\n",
    "(best_move,ponder_move) = stockfish.go(movetime=500)\n",
    "while(best_move is not None):\n",
    "    if board.can_claim_draw():\n",
    "        break\n",
    "    best_move = chess.Move.from_uci(str(best_move))\n",
    "    board.push(best_move)\n",
    "    node = node.add_variation(best_move)\n",
    "    stockfish.position(board)\n",
    "    BOARDS.append(copy.deepcopy(board))\n",
    "    write_tmp_png(chess.svg.board(board=board), move_count)\n",
    "    (best_move, ponder_move)=stockfish.go(movetime=500)\n",
    "    move_count += 1\n",
    "    \n",
    "clip = mpy.VideoClip(make_frame=make_frame).set_duration(move_count)\n",
    "clip.write_gif(\"chess_game.gif\",fps=1, fuzz=30, verbose=False)\n",
    "\n",
    "print(\"GIF written to 'chess_game.gif'\")"
   ]
  },
  {
   "cell_type": "code",
   "execution_count": 4,
   "metadata": {},
   "outputs": [
    {
     "data": {
      "text/html": [
       "<img src=\"chess_game.gif\">"
      ],
      "text/plain": [
       "<IPython.core.display.HTML object>"
      ]
     },
     "execution_count": 4,
     "metadata": {},
     "output_type": "execute_result"
    }
   ],
   "source": [
    "HTML('<img src=\"chess_game.gif\">')"
   ]
  },
  {
   "cell_type": "code",
   "execution_count": null,
   "metadata": {},
   "outputs": [],
   "source": []
  }
 ],
 "metadata": {
  "kernelspec": {
   "display_name": "Python 3",
   "language": "python",
   "name": "python3"
  },
  "language_info": {
   "codemirror_mode": {
    "name": "ipython",
    "version": 3
   },
   "file_extension": ".py",
   "mimetype": "text/x-python",
   "name": "python",
   "nbconvert_exporter": "python",
   "pygments_lexer": "ipython3",
   "version": "3.6.2"
  }
 },
 "nbformat": 4,
 "nbformat_minor": 2
}
